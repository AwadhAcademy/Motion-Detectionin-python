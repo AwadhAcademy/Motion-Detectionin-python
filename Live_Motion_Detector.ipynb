{
 "cells": [
  {
   "cell_type": "code",
   "execution_count": 2,
   "metadata": {},
   "outputs": [
    {
     "name": "stdout",
     "output_type": "stream",
     "text": [
      "360.0\n",
      "640.0\n",
      "1599.0\n",
      "360.0\n",
      "640.0\n"
     ]
    }
   ],
   "source": [
    "import cv2\n",
    "from datetime import datetime\n",
    "video=cv2.VideoCapture('sample.avi')# Loding Video\n",
    "print(video.get(cv2.CAP_PROP_FRAME_HEIGHT))\n",
    "print(video.get(cv2.CAP_PROP_FRAME_WIDTH))\n",
    "print(video.get(cv2.CAP_PROP_FRAME_COUNT))\n",
    "video.set(cv2.CAP_PROP_FRAME_HEIGHT,120)\n",
    "video.set(cv2.CAP_PROP_FRAME_HEIGHT,120)\n",
    "print(video.get(cv2.CAP_PROP_FRAME_HEIGHT))\n",
    "print(video.get(cv2.CAP_PROP_FRAME_WIDTH))\n",
    "forcc=cv2.VideoWriter_fourcc(*'XVID')\n",
    "out=cv2.VideoWriter('new.avi',forcc,10.0,(480,640))"
   ]
  },
  {
   "cell_type": "code",
   "execution_count": 3,
   "metadata": {},
   "outputs": [
    {
     "name": "stdout",
     "output_type": "stream",
     "text": [
      "True\n"
     ]
    }
   ],
   "source": [
    "ret,frame1=video.read()# creating Frame 1\n",
    "ret,frame2=video.read()# creating Frame 2\n",
    "i=0\n",
    "print(ret)"
   ]
  },
  {
   "cell_type": "code",
   "execution_count": 4,
   "metadata": {},
   "outputs": [],
   "source": [
    "while True:\n",
    "    date=datetime.today()\n",
    "    date=str(date)\n",
    "    difference=cv2.absdiff(frame1,frame2)\n",
    "    convert=cv2.cvtColor(difference,cv2.COLOR_BGR2GRAY)\n",
    "    blur=cv2.GaussianBlur(convert,(5,5),1)\n",
    "    _,thresh=cv2.threshold(blur,10,225,cv2.THRESH_BINARY)\n",
    "    dilate=cv2.dilate(thresh,None,iterations=10)\n",
    "    con,_=cv2.findContours(dilate,cv2.RETR_TREE,cv2.CHAIN_APPROX_SIMPLE)\n",
    "    for i in con:\n",
    "        (x,y,w,h)=cv2.boundingRect(i)\n",
    "        if cv2.contourArea(i)<100:\n",
    "            continue\n",
    "        else:\n",
    "            cv2.rectangle(frame1,(x,y),(x+w,y+h),(0,0,225),2)\n",
    "    font=cv2.FONT_HERSHEY_COMPLEX\n",
    "    frame1=cv2.putText(frame1,f'LIVE MOTION CAPTURING \\n{date}',(0,50),font,0.5,(0,225,0),1,cv2.LINE_AA)\n",
    "    out.write(frame1)\n",
    "    cv2.imshow('LIVE MOTION',frame1)\n",
    "    frame1=frame2\n",
    "    _,frame2=video.read()\n",
    "    key=cv2.waitKey(27)\n",
    "    if key==27:\n",
    "        break\n",
    "    elif key==ord('s'):\n",
    "        i+=1\n",
    "        cv2.imwrite(f'snapshot{i}.jpg',frame1)\n",
    "    else:\n",
    "        continue\n",
    "cv2.destroyAllWindows()\n",
    "out.release()\n",
    "video.release()\n",
    "    "
   ]
  },
  {
   "cell_type": "code",
   "execution_count": null,
   "metadata": {},
   "outputs": [],
   "source": []
  },
  {
   "cell_type": "code",
   "execution_count": null,
   "metadata": {},
   "outputs": [],
   "source": []
  }
 ],
 "metadata": {
  "kernelspec": {
   "display_name": "Python 3",
   "language": "python",
   "name": "python3"
  },
  "language_info": {
   "codemirror_mode": {
    "name": "ipython",
    "version": 3
   },
   "file_extension": ".py",
   "mimetype": "text/x-python",
   "name": "python",
   "nbconvert_exporter": "python",
   "pygments_lexer": "ipython3",
   "version": "3.7.6"
  }
 },
 "nbformat": 4,
 "nbformat_minor": 4
}
